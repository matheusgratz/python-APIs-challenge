{
 "cells": [
  {
   "cell_type": "markdown",
   "metadata": {},
   "source": [
    "# WeatherPy\n",
    "----\n",
    "\n",
    "#### Note\n",
    "* Instructions have been included for each segment. You do not have to follow them exactly, but they are included to help you think through the steps."
   ]
  },
  {
   "cell_type": "code",
   "execution_count": 1,
   "metadata": {},
   "outputs": [],
   "source": [
    "##############################\n",
    "#                            #\n",
    "#  Homework 6 - Python API   #\n",
    "#  Student - Matheus Gratz   #\n",
    "#  Part I - Weather PY       #\n",
    "##############################"
   ]
  },
  {
   "cell_type": "markdown",
   "metadata": {},
   "source": [
    "#### Import Dependencies"
   ]
  },
  {
   "cell_type": "code",
   "execution_count": 2,
   "metadata": {
    "scrolled": true
   },
   "outputs": [],
   "source": [
    "import random\n",
    "import requests\n",
    "import json\n",
    "\n",
    "import numpy as np\n",
    "import pandas as pd\n",
    "import scipy.stats as st\n",
    "import matplotlib.pyplot as plt\n",
    "\n",
    "from citipy import citipy\n",
    "from api_keys import w_key, g_key\n",
    "from IPython.display import clear_output\n",
    "\n",
    "plt.style.use('ggplot')"
   ]
  },
  {
   "cell_type": "markdown",
   "metadata": {},
   "source": [
    "#### Generate Cities List"
   ]
  },
  {
   "cell_type": "code",
   "execution_count": 3,
   "metadata": {},
   "outputs": [
    {
     "name": "stdout",
     "output_type": "stream",
     "text": [
      "There are 600 diferent cities on the dictionary!\n"
     ]
    }
   ],
   "source": [
    "#Set ranges of latitude and longitude\n",
    "lat_range = [-90, 90]\n",
    "long_range = [-180, +180]\n",
    "\n",
    "#Create a random uniform distribution\n",
    "lat = np.random.uniform(low=lat_range[0], high=lat_range[-1], size=2000)\n",
    "long = np.random.uniform(low=long_range[0], high=long_range[-1], size=2000)\n",
    "\n",
    "#Zip Lat and Long\n",
    "lat_long_zip = zip(lat, long)\n",
    "\n",
    "#Create an empty dictionary to store everything\n",
    "cities_dict = {\n",
    "    \"City ID\" : \"\",\n",
    "    \"City Name\" : [],\n",
    "    \"Country\": \"\",\n",
    "    \"Latitude\" : [],\n",
    "    \"Longitude\" : [],\n",
    "    \"Hemisphere\" : \"\",\n",
    "    \"Temperature (F)\": \"\",\n",
    "    \"Humidity (%)\" : \"\",\n",
    "    \"Cloudiness (%)\" : \"\",\n",
    "    \"Wind Speed (mph)\" : \"\",\n",
    "}\n",
    "\n",
    "# Identify nearest city for coordinate\n",
    "for coord in lat_long_zip:\n",
    "    city = citipy.nearest_city(coord[0], coord[1]).city_name\n",
    "    \n",
    "\n",
    "    # If the city is not in the list, add it\n",
    "    if city not in cities_dict[\"City Name\"]:\n",
    "        cities_dict[\"City Name\"].append(city)\n",
    "        cities_dict[\"Latitude\"].append(coord[0])\n",
    "        cities_dict[\"Longitude\"].append(coord[1])\n",
    "            \n",
    "        if len(cities_dict[\"City Name\"]) == 600:\n",
    "            break\n",
    "\n",
    "print(f'There are {len(cities_dict[\"City Name\"])} diferent cities on the dictionary!')"
   ]
  },
  {
   "cell_type": "code",
   "execution_count": 4,
   "metadata": {},
   "outputs": [
    {
     "data": {
      "text/html": [
       "<div>\n",
       "<style scoped>\n",
       "    .dataframe tbody tr th:only-of-type {\n",
       "        vertical-align: middle;\n",
       "    }\n",
       "\n",
       "    .dataframe tbody tr th {\n",
       "        vertical-align: top;\n",
       "    }\n",
       "\n",
       "    .dataframe thead th {\n",
       "        text-align: right;\n",
       "    }\n",
       "</style>\n",
       "<table border=\"1\" class=\"dataframe\">\n",
       "  <thead>\n",
       "    <tr style=\"text-align: right;\">\n",
       "      <th></th>\n",
       "      <th>City ID</th>\n",
       "      <th>City Name</th>\n",
       "      <th>Country</th>\n",
       "      <th>Latitude</th>\n",
       "      <th>Longitude</th>\n",
       "      <th>Hemisphere</th>\n",
       "      <th>Temperature (F)</th>\n",
       "      <th>Humidity (%)</th>\n",
       "      <th>Cloudiness (%)</th>\n",
       "      <th>Wind Speed (mph)</th>\n",
       "    </tr>\n",
       "  </thead>\n",
       "  <tbody>\n",
       "    <tr>\n",
       "      <th>0</th>\n",
       "      <td></td>\n",
       "      <td>hermanus</td>\n",
       "      <td></td>\n",
       "      <td>-34.954779</td>\n",
       "      <td>19.428117</td>\n",
       "      <td></td>\n",
       "      <td></td>\n",
       "      <td></td>\n",
       "      <td></td>\n",
       "      <td></td>\n",
       "    </tr>\n",
       "    <tr>\n",
       "      <th>1</th>\n",
       "      <td></td>\n",
       "      <td>yellowknife</td>\n",
       "      <td></td>\n",
       "      <td>80.071224</td>\n",
       "      <td>-109.975498</td>\n",
       "      <td></td>\n",
       "      <td></td>\n",
       "      <td></td>\n",
       "      <td></td>\n",
       "      <td></td>\n",
       "    </tr>\n",
       "    <tr>\n",
       "      <th>2</th>\n",
       "      <td></td>\n",
       "      <td>dikson</td>\n",
       "      <td></td>\n",
       "      <td>84.065778</td>\n",
       "      <td>75.265209</td>\n",
       "      <td></td>\n",
       "      <td></td>\n",
       "      <td></td>\n",
       "      <td></td>\n",
       "      <td></td>\n",
       "    </tr>\n",
       "    <tr>\n",
       "      <th>3</th>\n",
       "      <td></td>\n",
       "      <td>sitka</td>\n",
       "      <td></td>\n",
       "      <td>49.538623</td>\n",
       "      <td>-139.584339</td>\n",
       "      <td></td>\n",
       "      <td></td>\n",
       "      <td></td>\n",
       "      <td></td>\n",
       "      <td></td>\n",
       "    </tr>\n",
       "    <tr>\n",
       "      <th>4</th>\n",
       "      <td></td>\n",
       "      <td>albany</td>\n",
       "      <td></td>\n",
       "      <td>-63.847564</td>\n",
       "      <td>101.960834</td>\n",
       "      <td></td>\n",
       "      <td></td>\n",
       "      <td></td>\n",
       "      <td></td>\n",
       "      <td></td>\n",
       "    </tr>\n",
       "  </tbody>\n",
       "</table>\n",
       "</div>"
      ],
      "text/plain": [
       "  City ID    City Name Country   Latitude   Longitude Hemisphere  \\\n",
       "0             hermanus         -34.954779   19.428117              \n",
       "1          yellowknife          80.071224 -109.975498              \n",
       "2               dikson          84.065778   75.265209              \n",
       "3                sitka          49.538623 -139.584339              \n",
       "4               albany         -63.847564  101.960834              \n",
       "\n",
       "  Temperature (F) Humidity (%) Cloudiness (%) Wind Speed (mph)  \n",
       "0                                                               \n",
       "1                                                               \n",
       "2                                                               \n",
       "3                                                               \n",
       "4                                                               "
      ]
     },
     "execution_count": 4,
     "metadata": {},
     "output_type": "execute_result"
    }
   ],
   "source": [
    "#Transform the dictionary to Data Frame\n",
    "weather_df = pd.DataFrame(cities_dict)\n",
    "weather_df.head()"
   ]
  },
  {
   "cell_type": "markdown",
   "metadata": {},
   "source": [
    "### Perform API Calls\n",
    "* Perform a weather check on each city using a series of successive API calls.\n",
    "* Include a print log of each city as it'sbeing processed (with the city number and city name).\n"
   ]
  },
  {
   "cell_type": "code",
   "execution_count": 5,
   "metadata": {},
   "outputs": [
    {
     "name": "stdout",
     "output_type": "stream",
     "text": [
      "----------------------------\n",
      "Iteration 600 of 600 - City gillette\n",
      "Total Cities with data : 547\n",
      "Total Cities without data: 53 \n",
      "% of cities with data 91%\n",
      "----------------------------\n"
     ]
    },
    {
     "data": {
      "text/html": [
       "<div>\n",
       "<style scoped>\n",
       "    .dataframe tbody tr th:only-of-type {\n",
       "        vertical-align: middle;\n",
       "    }\n",
       "\n",
       "    .dataframe tbody tr th {\n",
       "        vertical-align: top;\n",
       "    }\n",
       "\n",
       "    .dataframe thead th {\n",
       "        text-align: right;\n",
       "    }\n",
       "</style>\n",
       "<table border=\"1\" class=\"dataframe\">\n",
       "  <thead>\n",
       "    <tr style=\"text-align: right;\">\n",
       "      <th></th>\n",
       "      <th>City ID</th>\n",
       "      <th>City Name</th>\n",
       "      <th>Country</th>\n",
       "      <th>Latitude</th>\n",
       "      <th>Longitude</th>\n",
       "      <th>Hemisphere</th>\n",
       "      <th>Temperature (F)</th>\n",
       "      <th>Humidity (%)</th>\n",
       "      <th>Cloudiness (%)</th>\n",
       "      <th>Wind Speed (mph)</th>\n",
       "    </tr>\n",
       "  </thead>\n",
       "  <tbody>\n",
       "    <tr>\n",
       "      <th>0</th>\n",
       "      <td>3366880</td>\n",
       "      <td>hermanus</td>\n",
       "      <td>ZA</td>\n",
       "      <td>-34.42</td>\n",
       "      <td>19.23</td>\n",
       "      <td>South</td>\n",
       "      <td>55</td>\n",
       "      <td>95</td>\n",
       "      <td>30</td>\n",
       "      <td>5.99</td>\n",
       "    </tr>\n",
       "    <tr>\n",
       "      <th>1</th>\n",
       "      <td>6185377</td>\n",
       "      <td>yellowknife</td>\n",
       "      <td>CA</td>\n",
       "      <td>62.46</td>\n",
       "      <td>-114.35</td>\n",
       "      <td>North</td>\n",
       "      <td>50.41</td>\n",
       "      <td>57</td>\n",
       "      <td>20</td>\n",
       "      <td>6.93</td>\n",
       "    </tr>\n",
       "    <tr>\n",
       "      <th>2</th>\n",
       "      <td>1507390</td>\n",
       "      <td>dikson</td>\n",
       "      <td>RU</td>\n",
       "      <td>73.51</td>\n",
       "      <td>80.55</td>\n",
       "      <td>North</td>\n",
       "      <td>41.14</td>\n",
       "      <td>84</td>\n",
       "      <td>1</td>\n",
       "      <td>10.22</td>\n",
       "    </tr>\n",
       "    <tr>\n",
       "      <th>3</th>\n",
       "      <td>5557293</td>\n",
       "      <td>sitka</td>\n",
       "      <td>US</td>\n",
       "      <td>57.05</td>\n",
       "      <td>-135.33</td>\n",
       "      <td>North</td>\n",
       "      <td>53.6</td>\n",
       "      <td>93</td>\n",
       "      <td>90</td>\n",
       "      <td>3.36</td>\n",
       "    </tr>\n",
       "    <tr>\n",
       "      <th>4</th>\n",
       "      <td>5106841</td>\n",
       "      <td>albany</td>\n",
       "      <td>US</td>\n",
       "      <td>42.60</td>\n",
       "      <td>-73.97</td>\n",
       "      <td>North</td>\n",
       "      <td>72.55</td>\n",
       "      <td>91</td>\n",
       "      <td>100</td>\n",
       "      <td>4.59</td>\n",
       "    </tr>\n",
       "    <tr>\n",
       "      <th>5</th>\n",
       "      <td>3874787</td>\n",
       "      <td>punta arenas</td>\n",
       "      <td>CL</td>\n",
       "      <td>-53.15</td>\n",
       "      <td>-70.92</td>\n",
       "      <td>South</td>\n",
       "      <td>35.29</td>\n",
       "      <td>88</td>\n",
       "      <td>28</td>\n",
       "      <td>6.93</td>\n",
       "    </tr>\n",
       "    <tr>\n",
       "      <th>6</th>\n",
       "      <td>1182872</td>\n",
       "      <td>bhag</td>\n",
       "      <td>PK</td>\n",
       "      <td>29.04</td>\n",
       "      <td>67.82</td>\n",
       "      <td>North</td>\n",
       "      <td>92.1</td>\n",
       "      <td>43</td>\n",
       "      <td>0</td>\n",
       "      <td>5.73</td>\n",
       "    </tr>\n",
       "    <tr>\n",
       "      <th>7</th>\n",
       "      <td>964432</td>\n",
       "      <td>port alfred</td>\n",
       "      <td>ZA</td>\n",
       "      <td>-33.59</td>\n",
       "      <td>26.89</td>\n",
       "      <td>South</td>\n",
       "      <td>61.68</td>\n",
       "      <td>39</td>\n",
       "      <td>0</td>\n",
       "      <td>11.45</td>\n",
       "    </tr>\n",
       "    <tr>\n",
       "      <th>8</th>\n",
       "      <td>7671223</td>\n",
       "      <td>kloulklubed</td>\n",
       "      <td>PW</td>\n",
       "      <td>7.04</td>\n",
       "      <td>134.26</td>\n",
       "      <td>North</td>\n",
       "      <td>89.6</td>\n",
       "      <td>66</td>\n",
       "      <td>75</td>\n",
       "      <td>8.05</td>\n",
       "    </tr>\n",
       "    <tr>\n",
       "      <th>9</th>\n",
       "      <td>3628473</td>\n",
       "      <td>san cristobal</td>\n",
       "      <td>VE</td>\n",
       "      <td>7.77</td>\n",
       "      <td>-72.22</td>\n",
       "      <td>North</td>\n",
       "      <td>73.4</td>\n",
       "      <td>94</td>\n",
       "      <td>75</td>\n",
       "      <td>2.24</td>\n",
       "    </tr>\n",
       "  </tbody>\n",
       "</table>\n",
       "</div>"
      ],
      "text/plain": [
       "   City ID      City Name Country  Latitude  Longitude Hemisphere  \\\n",
       "0  3366880       hermanus      ZA    -34.42      19.23      South   \n",
       "1  6185377    yellowknife      CA     62.46    -114.35      North   \n",
       "2  1507390         dikson      RU     73.51      80.55      North   \n",
       "3  5557293          sitka      US     57.05    -135.33      North   \n",
       "4  5106841         albany      US     42.60     -73.97      North   \n",
       "5  3874787   punta arenas      CL    -53.15     -70.92      South   \n",
       "6  1182872           bhag      PK     29.04      67.82      North   \n",
       "7   964432    port alfred      ZA    -33.59      26.89      South   \n",
       "8  7671223    kloulklubed      PW      7.04     134.26      North   \n",
       "9  3628473  san cristobal      VE      7.77     -72.22      North   \n",
       "\n",
       "  Temperature (F) Humidity (%) Cloudiness (%) Wind Speed (mph)  \n",
       "0              55           95             30             5.99  \n",
       "1           50.41           57             20             6.93  \n",
       "2           41.14           84              1            10.22  \n",
       "3            53.6           93             90             3.36  \n",
       "4           72.55           91            100             4.59  \n",
       "5           35.29           88             28             6.93  \n",
       "6            92.1           43              0             5.73  \n",
       "7           61.68           39              0            11.45  \n",
       "8            89.6           66             75             8.05  \n",
       "9            73.4           94             75             2.24  "
      ]
     },
     "execution_count": 5,
     "metadata": {},
     "output_type": "execute_result"
    }
   ],
   "source": [
    "# Save config information\n",
    "url = \"http://api.openweathermap.org/data/2.5/weather?\"\n",
    "units = \"imperial\"\n",
    "\n",
    "total_cities = len(cities_dict[\"City Name\"])\n",
    "count_ok = 0\n",
    "count_nok = 0\n",
    "\n",
    "\n",
    "for index, row in weather_df.iterrows():\n",
    "    \n",
    "    #Get city name\n",
    "    city = row[\"City Name\"]\n",
    "    \n",
    "    # Build query URL\n",
    "    query_url = url + \"appid=\" + w_key + \"&q=\" + city + '&units=' + units\n",
    "    \n",
    "    \n",
    "    # Get weather data\n",
    "    weather_response = requests.get(query_url)\n",
    "    weather_json = weather_response.json()\n",
    "   \n",
    "    try:\n",
    "        #Store Data\n",
    "        weather_df.loc[index, \"Country\"] = weather_json['sys']['country']\n",
    "        weather_df.loc[index, \"City ID\"] = weather_json['id']\n",
    "        weather_df.loc[index, \"Temperature (F)\"] = weather_json['main']['temp']\n",
    "        weather_df.loc[index, \"Humidity (%)\"] = weather_json['main']['humidity']\n",
    "        weather_df.loc[index, \"Cloudiness (%)\"] = weather_json['clouds']['all']\n",
    "        weather_df.loc[index, \"Wind Speed (mph)\"] = weather_json['wind']['speed']\n",
    "        weather_df.loc[index, \"Latitude\"] = weather_json['coord']['lat']\n",
    "        weather_df.loc[index, \"Longitude\"] = weather_json['coord']['lon']\n",
    "        \n",
    "        if weather_df.loc[index, \"Latitude\"] <= 0:\n",
    "            weather_df.loc[index, \"Hemisphere\"] = \"South\"\n",
    "        else:\n",
    "            weather_df.loc[index, \"Hemisphere\"] = \"North\"        \n",
    "        \n",
    "        count_ok += 1\n",
    "        \n",
    "    except KeyError:\n",
    "        count_nok += 1\n",
    "        weather_df.loc[index, \"City ID\"] = np.nan\n",
    "        \n",
    "    clear_output(wait=True)\n",
    "    print('----------------------------')\n",
    "    print(f'Iteration {count_ok+count_nok} of {total_cities} - City {city}')\n",
    "    print(f'Total Cities with data : {count_ok}')\n",
    "    print(f'Total Cities without data: {count_nok} \\n% of cities with data {round(count_ok/total_cities*100)}%')\n",
    "    \n",
    "print('----------------------------')\n",
    "weather_df.head(10)\n"
   ]
  },
  {
   "cell_type": "markdown",
   "metadata": {},
   "source": [
    "### Convert Raw Data to DataFrame\n",
    "* Export the city data into a .csv.\n",
    "* Display the DataFrame"
   ]
  },
  {
   "cell_type": "code",
   "execution_count": 6,
   "metadata": {},
   "outputs": [],
   "source": [
    "#Drop rows without data\n",
    "weather_df.dropna(inplace=True)\n",
    "\n",
    "#Convert to CSV\n",
    "weather_df.to_csv('output_data/weather_data.csv', index=False)"
   ]
  },
  {
   "cell_type": "code",
   "execution_count": 7,
   "metadata": {},
   "outputs": [
    {
     "data": {
      "text/html": [
       "<div>\n",
       "<style scoped>\n",
       "    .dataframe tbody tr th:only-of-type {\n",
       "        vertical-align: middle;\n",
       "    }\n",
       "\n",
       "    .dataframe tbody tr th {\n",
       "        vertical-align: top;\n",
       "    }\n",
       "\n",
       "    .dataframe thead th {\n",
       "        text-align: right;\n",
       "    }\n",
       "</style>\n",
       "<table border=\"1\" class=\"dataframe\">\n",
       "  <thead>\n",
       "    <tr style=\"text-align: right;\">\n",
       "      <th></th>\n",
       "      <th>City ID</th>\n",
       "      <th>City Name</th>\n",
       "      <th>Country</th>\n",
       "      <th>Latitude</th>\n",
       "      <th>Longitude</th>\n",
       "      <th>Hemisphere</th>\n",
       "      <th>Temperature (F)</th>\n",
       "      <th>Humidity (%)</th>\n",
       "      <th>Cloudiness (%)</th>\n",
       "      <th>Wind Speed (mph)</th>\n",
       "    </tr>\n",
       "  </thead>\n",
       "  <tbody>\n",
       "    <tr>\n",
       "      <th>0</th>\n",
       "      <td>3366880</td>\n",
       "      <td>hermanus</td>\n",
       "      <td>ZA</td>\n",
       "      <td>-34.42</td>\n",
       "      <td>19.23</td>\n",
       "      <td>South</td>\n",
       "      <td>55</td>\n",
       "      <td>95</td>\n",
       "      <td>30</td>\n",
       "      <td>5.99</td>\n",
       "    </tr>\n",
       "    <tr>\n",
       "      <th>1</th>\n",
       "      <td>6185377</td>\n",
       "      <td>yellowknife</td>\n",
       "      <td>CA</td>\n",
       "      <td>62.46</td>\n",
       "      <td>-114.35</td>\n",
       "      <td>North</td>\n",
       "      <td>50.41</td>\n",
       "      <td>57</td>\n",
       "      <td>20</td>\n",
       "      <td>6.93</td>\n",
       "    </tr>\n",
       "    <tr>\n",
       "      <th>2</th>\n",
       "      <td>1507390</td>\n",
       "      <td>dikson</td>\n",
       "      <td>RU</td>\n",
       "      <td>73.51</td>\n",
       "      <td>80.55</td>\n",
       "      <td>North</td>\n",
       "      <td>41.14</td>\n",
       "      <td>84</td>\n",
       "      <td>1</td>\n",
       "      <td>10.22</td>\n",
       "    </tr>\n",
       "    <tr>\n",
       "      <th>3</th>\n",
       "      <td>5557293</td>\n",
       "      <td>sitka</td>\n",
       "      <td>US</td>\n",
       "      <td>57.05</td>\n",
       "      <td>-135.33</td>\n",
       "      <td>North</td>\n",
       "      <td>53.6</td>\n",
       "      <td>93</td>\n",
       "      <td>90</td>\n",
       "      <td>3.36</td>\n",
       "    </tr>\n",
       "    <tr>\n",
       "      <th>4</th>\n",
       "      <td>5106841</td>\n",
       "      <td>albany</td>\n",
       "      <td>US</td>\n",
       "      <td>42.60</td>\n",
       "      <td>-73.97</td>\n",
       "      <td>North</td>\n",
       "      <td>72.55</td>\n",
       "      <td>91</td>\n",
       "      <td>100</td>\n",
       "      <td>4.59</td>\n",
       "    </tr>\n",
       "    <tr>\n",
       "      <th>...</th>\n",
       "      <td>...</td>\n",
       "      <td>...</td>\n",
       "      <td>...</td>\n",
       "      <td>...</td>\n",
       "      <td>...</td>\n",
       "      <td>...</td>\n",
       "      <td>...</td>\n",
       "      <td>...</td>\n",
       "      <td>...</td>\n",
       "      <td>...</td>\n",
       "    </tr>\n",
       "    <tr>\n",
       "      <th>595</th>\n",
       "      <td>3424901</td>\n",
       "      <td>aasiaat</td>\n",
       "      <td>GL</td>\n",
       "      <td>68.71</td>\n",
       "      <td>-52.87</td>\n",
       "      <td>North</td>\n",
       "      <td>30.81</td>\n",
       "      <td>98</td>\n",
       "      <td>85</td>\n",
       "      <td>4.34</td>\n",
       "    </tr>\n",
       "    <tr>\n",
       "      <th>596</th>\n",
       "      <td>2063042</td>\n",
       "      <td>port hedland</td>\n",
       "      <td>AU</td>\n",
       "      <td>-20.32</td>\n",
       "      <td>118.57</td>\n",
       "      <td>South</td>\n",
       "      <td>89.6</td>\n",
       "      <td>32</td>\n",
       "      <td>32</td>\n",
       "      <td>11.41</td>\n",
       "    </tr>\n",
       "    <tr>\n",
       "      <th>597</th>\n",
       "      <td>2156927</td>\n",
       "      <td>moree</td>\n",
       "      <td>AU</td>\n",
       "      <td>-29.47</td>\n",
       "      <td>149.85</td>\n",
       "      <td>South</td>\n",
       "      <td>77</td>\n",
       "      <td>33</td>\n",
       "      <td>0</td>\n",
       "      <td>14.99</td>\n",
       "    </tr>\n",
       "    <tr>\n",
       "      <th>598</th>\n",
       "      <td>1684606</td>\n",
       "      <td>taganak</td>\n",
       "      <td>PH</td>\n",
       "      <td>6.08</td>\n",
       "      <td>118.30</td>\n",
       "      <td>North</td>\n",
       "      <td>87.4</td>\n",
       "      <td>66</td>\n",
       "      <td>40</td>\n",
       "      <td>4.7</td>\n",
       "    </tr>\n",
       "    <tr>\n",
       "      <th>599</th>\n",
       "      <td>5826027</td>\n",
       "      <td>gillette</td>\n",
       "      <td>US</td>\n",
       "      <td>44.29</td>\n",
       "      <td>-105.50</td>\n",
       "      <td>North</td>\n",
       "      <td>71.8</td>\n",
       "      <td>13</td>\n",
       "      <td>1</td>\n",
       "      <td>10.29</td>\n",
       "    </tr>\n",
       "  </tbody>\n",
       "</table>\n",
       "<p>547 rows × 10 columns</p>\n",
       "</div>"
      ],
      "text/plain": [
       "     City ID     City Name Country  Latitude  Longitude Hemisphere  \\\n",
       "0    3366880      hermanus      ZA    -34.42      19.23      South   \n",
       "1    6185377   yellowknife      CA     62.46    -114.35      North   \n",
       "2    1507390        dikson      RU     73.51      80.55      North   \n",
       "3    5557293         sitka      US     57.05    -135.33      North   \n",
       "4    5106841        albany      US     42.60     -73.97      North   \n",
       "..       ...           ...     ...       ...        ...        ...   \n",
       "595  3424901       aasiaat      GL     68.71     -52.87      North   \n",
       "596  2063042  port hedland      AU    -20.32     118.57      South   \n",
       "597  2156927         moree      AU    -29.47     149.85      South   \n",
       "598  1684606       taganak      PH      6.08     118.30      North   \n",
       "599  5826027      gillette      US     44.29    -105.50      North   \n",
       "\n",
       "    Temperature (F) Humidity (%) Cloudiness (%) Wind Speed (mph)  \n",
       "0                55           95             30             5.99  \n",
       "1             50.41           57             20             6.93  \n",
       "2             41.14           84              1            10.22  \n",
       "3              53.6           93             90             3.36  \n",
       "4             72.55           91            100             4.59  \n",
       "..              ...          ...            ...              ...  \n",
       "595           30.81           98             85             4.34  \n",
       "596            89.6           32             32            11.41  \n",
       "597              77           33              0            14.99  \n",
       "598            87.4           66             40              4.7  \n",
       "599            71.8           13              1            10.29  \n",
       "\n",
       "[547 rows x 10 columns]"
      ]
     },
     "execution_count": 7,
     "metadata": {},
     "output_type": "execute_result"
    }
   ],
   "source": [
    "#Display Dataframe\n",
    "weather_df"
   ]
  },
  {
   "cell_type": "markdown",
   "metadata": {},
   "source": [
    "## Inspect the data and remove the cities where the humidity >= 100%.\n",
    "----\n",
    "Skip this step if there are no cities that have humidity >= 100%. "
   ]
  },
  {
   "cell_type": "code",
   "execution_count": 8,
   "metadata": {},
   "outputs": [
    {
     "data": {
      "text/html": [
       "<div>\n",
       "<style scoped>\n",
       "    .dataframe tbody tr th:only-of-type {\n",
       "        vertical-align: middle;\n",
       "    }\n",
       "\n",
       "    .dataframe tbody tr th {\n",
       "        vertical-align: top;\n",
       "    }\n",
       "\n",
       "    .dataframe thead th {\n",
       "        text-align: right;\n",
       "    }\n",
       "</style>\n",
       "<table border=\"1\" class=\"dataframe\">\n",
       "  <thead>\n",
       "    <tr style=\"text-align: right;\">\n",
       "      <th></th>\n",
       "      <th>City ID</th>\n",
       "      <th>City Name</th>\n",
       "      <th>Country</th>\n",
       "      <th>Latitude</th>\n",
       "      <th>Longitude</th>\n",
       "      <th>Hemisphere</th>\n",
       "      <th>Temperature (F)</th>\n",
       "      <th>Humidity (%)</th>\n",
       "      <th>Cloudiness (%)</th>\n",
       "      <th>Wind Speed (mph)</th>\n",
       "    </tr>\n",
       "  </thead>\n",
       "  <tbody>\n",
       "    <tr>\n",
       "      <th>58</th>\n",
       "      <td>3430863</td>\n",
       "      <td>mar del plata</td>\n",
       "      <td>AR</td>\n",
       "      <td>-38.00</td>\n",
       "      <td>-57.56</td>\n",
       "      <td>South</td>\n",
       "      <td>46.6</td>\n",
       "      <td>100</td>\n",
       "      <td>90</td>\n",
       "      <td>13.87</td>\n",
       "    </tr>\n",
       "    <tr>\n",
       "      <th>86</th>\n",
       "      <td>3556437</td>\n",
       "      <td>jaguey grande</td>\n",
       "      <td>CU</td>\n",
       "      <td>22.53</td>\n",
       "      <td>-81.13</td>\n",
       "      <td>North</td>\n",
       "      <td>75.2</td>\n",
       "      <td>100</td>\n",
       "      <td>40</td>\n",
       "      <td>3.36</td>\n",
       "    </tr>\n",
       "    <tr>\n",
       "      <th>117</th>\n",
       "      <td>1490256</td>\n",
       "      <td>talnakh</td>\n",
       "      <td>RU</td>\n",
       "      <td>69.49</td>\n",
       "      <td>88.40</td>\n",
       "      <td>North</td>\n",
       "      <td>41</td>\n",
       "      <td>100</td>\n",
       "      <td>97</td>\n",
       "      <td>17.9</td>\n",
       "    </tr>\n",
       "    <tr>\n",
       "      <th>178</th>\n",
       "      <td>5122534</td>\n",
       "      <td>jamestown</td>\n",
       "      <td>US</td>\n",
       "      <td>42.10</td>\n",
       "      <td>-79.24</td>\n",
       "      <td>North</td>\n",
       "      <td>66.29</td>\n",
       "      <td>100</td>\n",
       "      <td>1</td>\n",
       "      <td>6.93</td>\n",
       "    </tr>\n",
       "    <tr>\n",
       "      <th>202</th>\n",
       "      <td>3395981</td>\n",
       "      <td>maceio</td>\n",
       "      <td>BR</td>\n",
       "      <td>-9.67</td>\n",
       "      <td>-35.74</td>\n",
       "      <td>South</td>\n",
       "      <td>66.2</td>\n",
       "      <td>100</td>\n",
       "      <td>20</td>\n",
       "      <td>3.36</td>\n",
       "    </tr>\n",
       "    <tr>\n",
       "      <th>214</th>\n",
       "      <td>3175096</td>\n",
       "      <td>lasa</td>\n",
       "      <td>IT</td>\n",
       "      <td>46.62</td>\n",
       "      <td>10.70</td>\n",
       "      <td>North</td>\n",
       "      <td>44.6</td>\n",
       "      <td>100</td>\n",
       "      <td>5</td>\n",
       "      <td>3.36</td>\n",
       "    </tr>\n",
       "    <tr>\n",
       "      <th>227</th>\n",
       "      <td>613918</td>\n",
       "      <td>khobi</td>\n",
       "      <td>GE</td>\n",
       "      <td>42.32</td>\n",
       "      <td>41.90</td>\n",
       "      <td>North</td>\n",
       "      <td>69.8</td>\n",
       "      <td>100</td>\n",
       "      <td>90</td>\n",
       "      <td>4.7</td>\n",
       "    </tr>\n",
       "    <tr>\n",
       "      <th>229</th>\n",
       "      <td>4956335</td>\n",
       "      <td>yarmouth</td>\n",
       "      <td>US</td>\n",
       "      <td>41.71</td>\n",
       "      <td>-70.23</td>\n",
       "      <td>North</td>\n",
       "      <td>71.37</td>\n",
       "      <td>100</td>\n",
       "      <td>90</td>\n",
       "      <td>9.17</td>\n",
       "    </tr>\n",
       "    <tr>\n",
       "      <th>234</th>\n",
       "      <td>1244926</td>\n",
       "      <td>hambantota</td>\n",
       "      <td>LK</td>\n",
       "      <td>6.12</td>\n",
       "      <td>81.12</td>\n",
       "      <td>North</td>\n",
       "      <td>78.8</td>\n",
       "      <td>100</td>\n",
       "      <td>40</td>\n",
       "      <td>4.7</td>\n",
       "    </tr>\n",
       "    <tr>\n",
       "      <th>269</th>\n",
       "      <td>6144312</td>\n",
       "      <td>sept-iles</td>\n",
       "      <td>CA</td>\n",
       "      <td>50.20</td>\n",
       "      <td>-66.38</td>\n",
       "      <td>North</td>\n",
       "      <td>53.82</td>\n",
       "      <td>100</td>\n",
       "      <td>90</td>\n",
       "      <td>8.05</td>\n",
       "    </tr>\n",
       "    <tr>\n",
       "      <th>285</th>\n",
       "      <td>3998655</td>\n",
       "      <td>leon</td>\n",
       "      <td>MX</td>\n",
       "      <td>21.12</td>\n",
       "      <td>-101.67</td>\n",
       "      <td>North</td>\n",
       "      <td>59</td>\n",
       "      <td>100</td>\n",
       "      <td>90</td>\n",
       "      <td>5.82</td>\n",
       "    </tr>\n",
       "    <tr>\n",
       "      <th>296</th>\n",
       "      <td>2618795</td>\n",
       "      <td>klaksvik</td>\n",
       "      <td>FO</td>\n",
       "      <td>62.23</td>\n",
       "      <td>-6.59</td>\n",
       "      <td>North</td>\n",
       "      <td>51.8</td>\n",
       "      <td>100</td>\n",
       "      <td>52</td>\n",
       "      <td>14.99</td>\n",
       "    </tr>\n",
       "    <tr>\n",
       "      <th>328</th>\n",
       "      <td>6111696</td>\n",
       "      <td>port-cartier</td>\n",
       "      <td>CA</td>\n",
       "      <td>50.03</td>\n",
       "      <td>-66.87</td>\n",
       "      <td>North</td>\n",
       "      <td>53.8</td>\n",
       "      <td>100</td>\n",
       "      <td>90</td>\n",
       "      <td>8.05</td>\n",
       "    </tr>\n",
       "    <tr>\n",
       "      <th>333</th>\n",
       "      <td>2958024</td>\n",
       "      <td>altdorf</td>\n",
       "      <td>DE</td>\n",
       "      <td>49.39</td>\n",
       "      <td>11.36</td>\n",
       "      <td>North</td>\n",
       "      <td>45.79</td>\n",
       "      <td>100</td>\n",
       "      <td>0</td>\n",
       "      <td>6.93</td>\n",
       "    </tr>\n",
       "    <tr>\n",
       "      <th>408</th>\n",
       "      <td>3442778</td>\n",
       "      <td>delta del tigre</td>\n",
       "      <td>UY</td>\n",
       "      <td>-34.76</td>\n",
       "      <td>-56.39</td>\n",
       "      <td>South</td>\n",
       "      <td>52.32</td>\n",
       "      <td>100</td>\n",
       "      <td>90</td>\n",
       "      <td>27.72</td>\n",
       "    </tr>\n",
       "    <tr>\n",
       "      <th>438</th>\n",
       "      <td>606531</td>\n",
       "      <td>boden</td>\n",
       "      <td>SE</td>\n",
       "      <td>65.83</td>\n",
       "      <td>21.69</td>\n",
       "      <td>North</td>\n",
       "      <td>51.8</td>\n",
       "      <td>100</td>\n",
       "      <td>0</td>\n",
       "      <td>3.49</td>\n",
       "    </tr>\n",
       "    <tr>\n",
       "      <th>450</th>\n",
       "      <td>286621</td>\n",
       "      <td>salalah</td>\n",
       "      <td>OM</td>\n",
       "      <td>17.02</td>\n",
       "      <td>54.09</td>\n",
       "      <td>North</td>\n",
       "      <td>77</td>\n",
       "      <td>100</td>\n",
       "      <td>90</td>\n",
       "      <td>6.93</td>\n",
       "    </tr>\n",
       "    <tr>\n",
       "      <th>461</th>\n",
       "      <td>4224681</td>\n",
       "      <td>stockbridge</td>\n",
       "      <td>US</td>\n",
       "      <td>33.54</td>\n",
       "      <td>-84.23</td>\n",
       "      <td>North</td>\n",
       "      <td>75.2</td>\n",
       "      <td>100</td>\n",
       "      <td>1</td>\n",
       "      <td>6.04</td>\n",
       "    </tr>\n",
       "    <tr>\n",
       "      <th>471</th>\n",
       "      <td>1224061</td>\n",
       "      <td>wattegama</td>\n",
       "      <td>LK</td>\n",
       "      <td>6.80</td>\n",
       "      <td>81.48</td>\n",
       "      <td>North</td>\n",
       "      <td>78.8</td>\n",
       "      <td>100</td>\n",
       "      <td>40</td>\n",
       "      <td>4.7</td>\n",
       "    </tr>\n",
       "    <tr>\n",
       "      <th>487</th>\n",
       "      <td>548478</td>\n",
       "      <td>kirillov</td>\n",
       "      <td>RU</td>\n",
       "      <td>59.86</td>\n",
       "      <td>38.38</td>\n",
       "      <td>North</td>\n",
       "      <td>42.8</td>\n",
       "      <td>100</td>\n",
       "      <td>15</td>\n",
       "      <td>4.47</td>\n",
       "    </tr>\n",
       "    <tr>\n",
       "      <th>504</th>\n",
       "      <td>5970478</td>\n",
       "      <td>harbour breton</td>\n",
       "      <td>CA</td>\n",
       "      <td>47.48</td>\n",
       "      <td>-55.80</td>\n",
       "      <td>North</td>\n",
       "      <td>57</td>\n",
       "      <td>100</td>\n",
       "      <td>75</td>\n",
       "      <td>13.6</td>\n",
       "    </tr>\n",
       "    <tr>\n",
       "      <th>544</th>\n",
       "      <td>3592086</td>\n",
       "      <td>ocos</td>\n",
       "      <td>GT</td>\n",
       "      <td>14.51</td>\n",
       "      <td>-92.19</td>\n",
       "      <td>North</td>\n",
       "      <td>74.37</td>\n",
       "      <td>100</td>\n",
       "      <td>90</td>\n",
       "      <td>5.82</td>\n",
       "    </tr>\n",
       "  </tbody>\n",
       "</table>\n",
       "</div>"
      ],
      "text/plain": [
       "     City ID        City Name Country  Latitude  Longitude Hemisphere  \\\n",
       "58   3430863    mar del plata      AR    -38.00     -57.56      South   \n",
       "86   3556437    jaguey grande      CU     22.53     -81.13      North   \n",
       "117  1490256          talnakh      RU     69.49      88.40      North   \n",
       "178  5122534        jamestown      US     42.10     -79.24      North   \n",
       "202  3395981           maceio      BR     -9.67     -35.74      South   \n",
       "214  3175096             lasa      IT     46.62      10.70      North   \n",
       "227   613918            khobi      GE     42.32      41.90      North   \n",
       "229  4956335         yarmouth      US     41.71     -70.23      North   \n",
       "234  1244926       hambantota      LK      6.12      81.12      North   \n",
       "269  6144312        sept-iles      CA     50.20     -66.38      North   \n",
       "285  3998655             leon      MX     21.12    -101.67      North   \n",
       "296  2618795         klaksvik      FO     62.23      -6.59      North   \n",
       "328  6111696     port-cartier      CA     50.03     -66.87      North   \n",
       "333  2958024          altdorf      DE     49.39      11.36      North   \n",
       "408  3442778  delta del tigre      UY    -34.76     -56.39      South   \n",
       "438   606531            boden      SE     65.83      21.69      North   \n",
       "450   286621          salalah      OM     17.02      54.09      North   \n",
       "461  4224681      stockbridge      US     33.54     -84.23      North   \n",
       "471  1224061        wattegama      LK      6.80      81.48      North   \n",
       "487   548478         kirillov      RU     59.86      38.38      North   \n",
       "504  5970478   harbour breton      CA     47.48     -55.80      North   \n",
       "544  3592086             ocos      GT     14.51     -92.19      North   \n",
       "\n",
       "    Temperature (F) Humidity (%) Cloudiness (%) Wind Speed (mph)  \n",
       "58             46.6          100             90            13.87  \n",
       "86             75.2          100             40             3.36  \n",
       "117              41          100             97             17.9  \n",
       "178           66.29          100              1             6.93  \n",
       "202            66.2          100             20             3.36  \n",
       "214            44.6          100              5             3.36  \n",
       "227            69.8          100             90              4.7  \n",
       "229           71.37          100             90             9.17  \n",
       "234            78.8          100             40              4.7  \n",
       "269           53.82          100             90             8.05  \n",
       "285              59          100             90             5.82  \n",
       "296            51.8          100             52            14.99  \n",
       "328            53.8          100             90             8.05  \n",
       "333           45.79          100              0             6.93  \n",
       "408           52.32          100             90            27.72  \n",
       "438            51.8          100              0             3.49  \n",
       "450              77          100             90             6.93  \n",
       "461            75.2          100              1             6.04  \n",
       "471            78.8          100             40              4.7  \n",
       "487            42.8          100             15             4.47  \n",
       "504              57          100             75             13.6  \n",
       "544           74.37          100             90             5.82  "
      ]
     },
     "execution_count": 8,
     "metadata": {},
     "output_type": "execute_result"
    }
   ],
   "source": [
    "humidity_weather_df = weather_df.loc[weather_df['Humidity (%)'] >= 100]\n",
    "humidity_weather_df"
   ]
  },
  {
   "cell_type": "code",
   "execution_count": 9,
   "metadata": {},
   "outputs": [
    {
     "name": "stdout",
     "output_type": "stream",
     "text": [
      "Cities index with humidity >= 100%\n",
      "[58, 86, 117, 178, 202, 214, 227, 229, 234, 269, 285, 296, 328, 333, 408, 438, 450, 461, 471, 487, 504, 544]"
     ]
    }
   ],
   "source": [
    "#  Get the indices of cities that have humidity over 100%\n",
    "list_index = humidity_weather_df.index.values.tolist()\n",
    "print('Cities index with humidity >= 100%')\n",
    "print(list_index, end='')"
   ]
  },
  {
   "cell_type": "code",
   "execution_count": 10,
   "metadata": {},
   "outputs": [
    {
     "data": {
      "text/html": [
       "<div>\n",
       "<style scoped>\n",
       "    .dataframe tbody tr th:only-of-type {\n",
       "        vertical-align: middle;\n",
       "    }\n",
       "\n",
       "    .dataframe tbody tr th {\n",
       "        vertical-align: top;\n",
       "    }\n",
       "\n",
       "    .dataframe thead th {\n",
       "        text-align: right;\n",
       "    }\n",
       "</style>\n",
       "<table border=\"1\" class=\"dataframe\">\n",
       "  <thead>\n",
       "    <tr style=\"text-align: right;\">\n",
       "      <th></th>\n",
       "      <th>City ID</th>\n",
       "      <th>City Name</th>\n",
       "      <th>Country</th>\n",
       "      <th>Latitude</th>\n",
       "      <th>Longitude</th>\n",
       "      <th>Hemisphere</th>\n",
       "      <th>Temperature (F)</th>\n",
       "      <th>Humidity (%)</th>\n",
       "      <th>Cloudiness (%)</th>\n",
       "      <th>Wind Speed (mph)</th>\n",
       "    </tr>\n",
       "  </thead>\n",
       "  <tbody>\n",
       "    <tr>\n",
       "      <th>0</th>\n",
       "      <td>3366880</td>\n",
       "      <td>hermanus</td>\n",
       "      <td>ZA</td>\n",
       "      <td>-34.42</td>\n",
       "      <td>19.23</td>\n",
       "      <td>South</td>\n",
       "      <td>55</td>\n",
       "      <td>95</td>\n",
       "      <td>30</td>\n",
       "      <td>5.99</td>\n",
       "    </tr>\n",
       "    <tr>\n",
       "      <th>1</th>\n",
       "      <td>6185377</td>\n",
       "      <td>yellowknife</td>\n",
       "      <td>CA</td>\n",
       "      <td>62.46</td>\n",
       "      <td>-114.35</td>\n",
       "      <td>North</td>\n",
       "      <td>50.41</td>\n",
       "      <td>57</td>\n",
       "      <td>20</td>\n",
       "      <td>6.93</td>\n",
       "    </tr>\n",
       "    <tr>\n",
       "      <th>2</th>\n",
       "      <td>1507390</td>\n",
       "      <td>dikson</td>\n",
       "      <td>RU</td>\n",
       "      <td>73.51</td>\n",
       "      <td>80.55</td>\n",
       "      <td>North</td>\n",
       "      <td>41.14</td>\n",
       "      <td>84</td>\n",
       "      <td>1</td>\n",
       "      <td>10.22</td>\n",
       "    </tr>\n",
       "    <tr>\n",
       "      <th>3</th>\n",
       "      <td>5557293</td>\n",
       "      <td>sitka</td>\n",
       "      <td>US</td>\n",
       "      <td>57.05</td>\n",
       "      <td>-135.33</td>\n",
       "      <td>North</td>\n",
       "      <td>53.6</td>\n",
       "      <td>93</td>\n",
       "      <td>90</td>\n",
       "      <td>3.36</td>\n",
       "    </tr>\n",
       "    <tr>\n",
       "      <th>4</th>\n",
       "      <td>5106841</td>\n",
       "      <td>albany</td>\n",
       "      <td>US</td>\n",
       "      <td>42.60</td>\n",
       "      <td>-73.97</td>\n",
       "      <td>North</td>\n",
       "      <td>72.55</td>\n",
       "      <td>91</td>\n",
       "      <td>100</td>\n",
       "      <td>4.59</td>\n",
       "    </tr>\n",
       "    <tr>\n",
       "      <th>...</th>\n",
       "      <td>...</td>\n",
       "      <td>...</td>\n",
       "      <td>...</td>\n",
       "      <td>...</td>\n",
       "      <td>...</td>\n",
       "      <td>...</td>\n",
       "      <td>...</td>\n",
       "      <td>...</td>\n",
       "      <td>...</td>\n",
       "      <td>...</td>\n",
       "    </tr>\n",
       "    <tr>\n",
       "      <th>595</th>\n",
       "      <td>3424901</td>\n",
       "      <td>aasiaat</td>\n",
       "      <td>GL</td>\n",
       "      <td>68.71</td>\n",
       "      <td>-52.87</td>\n",
       "      <td>North</td>\n",
       "      <td>30.81</td>\n",
       "      <td>98</td>\n",
       "      <td>85</td>\n",
       "      <td>4.34</td>\n",
       "    </tr>\n",
       "    <tr>\n",
       "      <th>596</th>\n",
       "      <td>2063042</td>\n",
       "      <td>port hedland</td>\n",
       "      <td>AU</td>\n",
       "      <td>-20.32</td>\n",
       "      <td>118.57</td>\n",
       "      <td>South</td>\n",
       "      <td>89.6</td>\n",
       "      <td>32</td>\n",
       "      <td>32</td>\n",
       "      <td>11.41</td>\n",
       "    </tr>\n",
       "    <tr>\n",
       "      <th>597</th>\n",
       "      <td>2156927</td>\n",
       "      <td>moree</td>\n",
       "      <td>AU</td>\n",
       "      <td>-29.47</td>\n",
       "      <td>149.85</td>\n",
       "      <td>South</td>\n",
       "      <td>77</td>\n",
       "      <td>33</td>\n",
       "      <td>0</td>\n",
       "      <td>14.99</td>\n",
       "    </tr>\n",
       "    <tr>\n",
       "      <th>598</th>\n",
       "      <td>1684606</td>\n",
       "      <td>taganak</td>\n",
       "      <td>PH</td>\n",
       "      <td>6.08</td>\n",
       "      <td>118.30</td>\n",
       "      <td>North</td>\n",
       "      <td>87.4</td>\n",
       "      <td>66</td>\n",
       "      <td>40</td>\n",
       "      <td>4.7</td>\n",
       "    </tr>\n",
       "    <tr>\n",
       "      <th>599</th>\n",
       "      <td>5826027</td>\n",
       "      <td>gillette</td>\n",
       "      <td>US</td>\n",
       "      <td>44.29</td>\n",
       "      <td>-105.50</td>\n",
       "      <td>North</td>\n",
       "      <td>71.8</td>\n",
       "      <td>13</td>\n",
       "      <td>1</td>\n",
       "      <td>10.29</td>\n",
       "    </tr>\n",
       "  </tbody>\n",
       "</table>\n",
       "<p>525 rows × 10 columns</p>\n",
       "</div>"
      ],
      "text/plain": [
       "     City ID     City Name Country  Latitude  Longitude Hemisphere  \\\n",
       "0    3366880      hermanus      ZA    -34.42      19.23      South   \n",
       "1    6185377   yellowknife      CA     62.46    -114.35      North   \n",
       "2    1507390        dikson      RU     73.51      80.55      North   \n",
       "3    5557293         sitka      US     57.05    -135.33      North   \n",
       "4    5106841        albany      US     42.60     -73.97      North   \n",
       "..       ...           ...     ...       ...        ...        ...   \n",
       "595  3424901       aasiaat      GL     68.71     -52.87      North   \n",
       "596  2063042  port hedland      AU    -20.32     118.57      South   \n",
       "597  2156927         moree      AU    -29.47     149.85      South   \n",
       "598  1684606       taganak      PH      6.08     118.30      North   \n",
       "599  5826027      gillette      US     44.29    -105.50      North   \n",
       "\n",
       "    Temperature (F) Humidity (%) Cloudiness (%) Wind Speed (mph)  \n",
       "0                55           95             30             5.99  \n",
       "1             50.41           57             20             6.93  \n",
       "2             41.14           84              1            10.22  \n",
       "3              53.6           93             90             3.36  \n",
       "4             72.55           91            100             4.59  \n",
       "..              ...          ...            ...              ...  \n",
       "595           30.81           98             85             4.34  \n",
       "596            89.6           32             32            11.41  \n",
       "597              77           33              0            14.99  \n",
       "598            87.4           66             40              4.7  \n",
       "599            71.8           13              1            10.29  \n",
       "\n",
       "[525 rows x 10 columns]"
      ]
     },
     "execution_count": 10,
     "metadata": {},
     "output_type": "execute_result"
    }
   ],
   "source": [
    "# Make a new DataFrame equal to the city data to drop all humidity outliers by index.\n",
    "# Passing \"inplace=False\" will make a copy of the city_data DataFrame, which we call \"clean_city_data\".\n",
    "clean_weather_df = weather_df.loc[weather_df['Humidity (%)'] < 100]\n",
    "clean_weather_df"
   ]
  },
  {
   "cell_type": "markdown",
   "metadata": {},
   "source": [
    "## Plotting the Data\n",
    "* Use proper labeling of the plots using plot titles (including date of analysis) and axes labels.\n",
    "* Save the plotted figures as .pngs."
   ]
  },
  {
   "cell_type": "markdown",
   "metadata": {},
   "source": [
    "## Latitude vs. Temperature Plot"
   ]
  },
  {
   "cell_type": "code",
   "execution_count": 11,
   "metadata": {},
   "outputs": [
    {
     "data": {
      "image/png": "[encoded data removed]",
      "text/plain": [
       "<Figure size 432x288 with 1 Axes>"
      ]
     },
     "metadata": {},
     "output_type": "display_data"
    }
   ],
   "source": [
    "clean_weather_df.plot(kind='scatter', x='Latitude', y='Temperature (F)', title='Temperature (F) vs. Latitude Chart')\n",
    "plt.savefig('output_data/lat_vs_temp_scatter.png')\n",
    "plt.show()"
   ]
  },
  {
   "cell_type": "markdown",
   "metadata": {},
   "source": [
    "We can see there is a relation between Latitude and Temperature.\n",
    "The chart looks simetric at latitude 0~25."
   ]
  },
  {
   "cell_type": "markdown",
   "metadata": {},
   "source": [
    "## Latitude vs. Humidity Plot"
   ]
  },
  {
   "cell_type": "code",
   "execution_count": 12,
   "metadata": {},
   "outputs": [
    {
     "data": {
      "image/png": "[encoded data removed]",
      "text/plain": [
       "<Figure size 432x288 with 1 Axes>"
      ]
     },
     "metadata": {},
     "output_type": "display_data"
    }
   ],
   "source": [
    "clean_weather_df.plot(kind='scatter', x='Latitude', y='Humidity (%)', title='Humidity (%) vs. Latitude Chart')\n",
    "plt.savefig('output_data/lat_vs_humidity_scatter.png')\n",
    "plt.show()"
   ]
  },
  {
   "cell_type": "markdown",
   "metadata": {},
   "source": [
    "It seems that there is no relationship between Latitude and Humidity."
   ]
  },
  {
   "cell_type": "markdown",
   "metadata": {},
   "source": [
    "## Latitude vs. Cloudiness Plot"
   ]
  },
  {
   "cell_type": "code",
   "execution_count": 13,
   "metadata": {},
   "outputs": [
    {
     "data": {
      "image/png": "[encoded data removed]",
      "text/plain": [
       "<Figure size 432x288 with 1 Axes>"
      ]
     },
     "metadata": {},
     "output_type": "display_data"
    }
   ],
   "source": [
    "clean_weather_df.plot(kind='scatter', x='Latitude', y='Cloudiness (%)', title='Cloudiness (%) vs. Latitude Chart')\n",
    "plt.savefig('output_data/lat_vs_cloud_scatter.png')\n",
    "plt.show()"
   ]
  },
  {
   "cell_type": "markdown",
   "metadata": {},
   "source": [
    "It seems that there is no relationship between Latitude and Cloudiness."
   ]
  },
  {
   "cell_type": "markdown",
   "metadata": {},
   "source": [
    "## Latitude vs. Wind Speed Plot"
   ]
  },
  {
   "cell_type": "code",
   "execution_count": 14,
   "metadata": {},
   "outputs": [
    {
     "data": {
      "image/png": "[encoded data removed]",
      "text/plain": [
       "<Figure size 432x288 with 1 Axes>"
      ]
     },
     "metadata": {},
     "output_type": "display_data"
    }
   ],
   "source": [
    "clean_weather_df.plot(kind='scatter', x='Latitude', y='Wind Speed (mph)', title='Wind Speed (mph) vs. Latitude Chart')\n",
    "plt.savefig('output_data/lat_vs_wind_scatter.png')\n",
    "plt.show()"
   ]
  },
  {
   "cell_type": "markdown",
   "metadata": {},
   "source": [
    "It seems that there is no relationship between Latitude and wind speed"
   ]
  },
  {
   "cell_type": "markdown",
   "metadata": {},
   "source": [
    "---"
   ]
  },
  {
   "cell_type": "markdown",
   "metadata": {},
   "source": [
    "## Linear Regression"
   ]
  },
  {
   "cell_type": "code",
   "execution_count": 15,
   "metadata": {},
   "outputs": [
    {
     "data": {
      "text/plain": [
       "City ID              object\n",
       "City Name            object\n",
       "Country              object\n",
       "Latitude            float64\n",
       "Longitude           float64\n",
       "Hemisphere           object\n",
       "Temperature (F)      object\n",
       "Humidity (%)         object\n",
       "Cloudiness (%)       object\n",
       "Wind Speed (mph)     object\n",
       "dtype: object"
      ]
     },
     "execution_count": 15,
     "metadata": {},
     "output_type": "execute_result"
    }
   ],
   "source": [
    "#Check df types\n",
    "clean_weather_df.dtypes"
   ]
  },
  {
   "cell_type": "code",
   "execution_count": 16,
   "metadata": {},
   "outputs": [
    {
     "name": "stderr",
     "output_type": "stream",
     "text": [
      "C:\\Users\\3647507\\Anaconda3\\lib\\site-packages\\pandas\\core\\frame.py:2963: SettingWithCopyWarning: \n",
      "A value is trying to be set on a copy of a slice from a DataFrame.\n",
      "Try using .loc[row_indexer,col_indexer] = value instead\n",
      "\n",
      "See the caveats in the documentation: https://pandas.pydata.org/pandas-docs/stable/user_guide/indexing.html#returning-a-view-versus-a-copy\n",
      "  self[k1] = value[k2]\n"
     ]
    }
   ],
   "source": [
    "#Convert dtypes from object to float\n",
    "clean_weather_df[['Temperature (F)', 'Humidity (%)', 'Cloudiness (%)',\n",
    "       'Wind Speed (mph)']] = clean_weather_df[['Temperature (F)', 'Humidity (%)', 'Cloudiness (%)',\n",
    "       'Wind Speed (mph)']].astype(float)"
   ]
  },
  {
   "cell_type": "code",
   "execution_count": 17,
   "metadata": {},
   "outputs": [
    {
     "data": {
      "text/plain": [
       "City ID              object\n",
       "City Name            object\n",
       "Country              object\n",
       "Latitude            float64\n",
       "Longitude           float64\n",
       "Hemisphere           object\n",
       "Temperature (F)     float64\n",
       "Humidity (%)        float64\n",
       "Cloudiness (%)      float64\n",
       "Wind Speed (mph)    float64\n",
       "dtype: object"
      ]
     },
     "execution_count": 17,
     "metadata": {},
     "output_type": "execute_result"
    }
   ],
   "source": [
    "#Check if everything is ok\n",
    "clean_weather_df.dtypes"
   ]
  },
  {
   "cell_type": "code",
   "execution_count": 18,
   "metadata": {},
   "outputs": [
    {
     "data": {
      "text/html": [
       "<div>\n",
       "<style scoped>\n",
       "    .dataframe tbody tr th:only-of-type {\n",
       "        vertical-align: middle;\n",
       "    }\n",
       "\n",
       "    .dataframe tbody tr th {\n",
       "        vertical-align: top;\n",
       "    }\n",
       "\n",
       "    .dataframe thead th {\n",
       "        text-align: right;\n",
       "    }\n",
       "</style>\n",
       "<table border=\"1\" class=\"dataframe\">\n",
       "  <thead>\n",
       "    <tr style=\"text-align: right;\">\n",
       "      <th></th>\n",
       "      <th>City ID</th>\n",
       "      <th>City Name</th>\n",
       "      <th>Country</th>\n",
       "      <th>Latitude</th>\n",
       "      <th>Longitude</th>\n",
       "      <th>Hemisphere</th>\n",
       "      <th>Temperature (F)</th>\n",
       "      <th>Humidity (%)</th>\n",
       "      <th>Cloudiness (%)</th>\n",
       "      <th>Wind Speed (mph)</th>\n",
       "    </tr>\n",
       "  </thead>\n",
       "  <tbody>\n",
       "    <tr>\n",
       "      <th>1</th>\n",
       "      <td>6185377</td>\n",
       "      <td>yellowknife</td>\n",
       "      <td>CA</td>\n",
       "      <td>62.46</td>\n",
       "      <td>-114.35</td>\n",
       "      <td>North</td>\n",
       "      <td>50.41</td>\n",
       "      <td>57.0</td>\n",
       "      <td>20.0</td>\n",
       "      <td>6.93</td>\n",
       "    </tr>\n",
       "    <tr>\n",
       "      <th>2</th>\n",
       "      <td>1507390</td>\n",
       "      <td>dikson</td>\n",
       "      <td>RU</td>\n",
       "      <td>73.51</td>\n",
       "      <td>80.55</td>\n",
       "      <td>North</td>\n",
       "      <td>41.14</td>\n",
       "      <td>84.0</td>\n",
       "      <td>1.0</td>\n",
       "      <td>10.22</td>\n",
       "    </tr>\n",
       "    <tr>\n",
       "      <th>3</th>\n",
       "      <td>5557293</td>\n",
       "      <td>sitka</td>\n",
       "      <td>US</td>\n",
       "      <td>57.05</td>\n",
       "      <td>-135.33</td>\n",
       "      <td>North</td>\n",
       "      <td>53.60</td>\n",
       "      <td>93.0</td>\n",
       "      <td>90.0</td>\n",
       "      <td>3.36</td>\n",
       "    </tr>\n",
       "    <tr>\n",
       "      <th>4</th>\n",
       "      <td>5106841</td>\n",
       "      <td>albany</td>\n",
       "      <td>US</td>\n",
       "      <td>42.60</td>\n",
       "      <td>-73.97</td>\n",
       "      <td>North</td>\n",
       "      <td>72.55</td>\n",
       "      <td>91.0</td>\n",
       "      <td>100.0</td>\n",
       "      <td>4.59</td>\n",
       "    </tr>\n",
       "    <tr>\n",
       "      <th>6</th>\n",
       "      <td>1182872</td>\n",
       "      <td>bhag</td>\n",
       "      <td>PK</td>\n",
       "      <td>29.04</td>\n",
       "      <td>67.82</td>\n",
       "      <td>North</td>\n",
       "      <td>92.10</td>\n",
       "      <td>43.0</td>\n",
       "      <td>0.0</td>\n",
       "      <td>5.73</td>\n",
       "    </tr>\n",
       "  </tbody>\n",
       "</table>\n",
       "</div>"
      ],
      "text/plain": [
       "   City ID    City Name Country  Latitude  Longitude Hemisphere  \\\n",
       "1  6185377  yellowknife      CA     62.46    -114.35      North   \n",
       "2  1507390       dikson      RU     73.51      80.55      North   \n",
       "3  5557293        sitka      US     57.05    -135.33      North   \n",
       "4  5106841       albany      US     42.60     -73.97      North   \n",
       "6  1182872         bhag      PK     29.04      67.82      North   \n",
       "\n",
       "   Temperature (F)  Humidity (%)  Cloudiness (%)  Wind Speed (mph)  \n",
       "1            50.41          57.0            20.0              6.93  \n",
       "2            41.14          84.0             1.0             10.22  \n",
       "3            53.60          93.0            90.0              3.36  \n",
       "4            72.55          91.0           100.0              4.59  \n",
       "6            92.10          43.0             0.0              5.73  "
      ]
     },
     "execution_count": 18,
     "metadata": {},
     "output_type": "execute_result"
    }
   ],
   "source": [
    "#Create a dataframe for NORTHERN hemispheres\n",
    "north_df = clean_weather_df[clean_weather_df[\"Hemisphere\"] == \"North\"]\n",
    "north_df.head()"
   ]
  },
  {
   "cell_type": "code",
   "execution_count": 19,
   "metadata": {},
   "outputs": [
    {
     "data": {
      "text/html": [
       "<div>\n",
       "<style scoped>\n",
       "    .dataframe tbody tr th:only-of-type {\n",
       "        vertical-align: middle;\n",
       "    }\n",
       "\n",
       "    .dataframe tbody tr th {\n",
       "        vertical-align: top;\n",
       "    }\n",
       "\n",
       "    .dataframe thead th {\n",
       "        text-align: right;\n",
       "    }\n",
       "</style>\n",
       "<table border=\"1\" class=\"dataframe\">\n",
       "  <thead>\n",
       "    <tr style=\"text-align: right;\">\n",
       "      <th></th>\n",
       "      <th>City ID</th>\n",
       "      <th>City Name</th>\n",
       "      <th>Country</th>\n",
       "      <th>Latitude</th>\n",
       "      <th>Longitude</th>\n",
       "      <th>Hemisphere</th>\n",
       "      <th>Temperature (F)</th>\n",
       "      <th>Humidity (%)</th>\n",
       "      <th>Cloudiness (%)</th>\n",
       "      <th>Wind Speed (mph)</th>\n",
       "    </tr>\n",
       "  </thead>\n",
       "  <tbody>\n",
       "    <tr>\n",
       "      <th>0</th>\n",
       "      <td>3366880</td>\n",
       "      <td>hermanus</td>\n",
       "      <td>ZA</td>\n",
       "      <td>-34.42</td>\n",
       "      <td>19.23</td>\n",
       "      <td>South</td>\n",
       "      <td>55.00</td>\n",
       "      <td>95.0</td>\n",
       "      <td>30.0</td>\n",
       "      <td>5.99</td>\n",
       "    </tr>\n",
       "    <tr>\n",
       "      <th>5</th>\n",
       "      <td>3874787</td>\n",
       "      <td>punta arenas</td>\n",
       "      <td>CL</td>\n",
       "      <td>-53.15</td>\n",
       "      <td>-70.92</td>\n",
       "      <td>South</td>\n",
       "      <td>35.29</td>\n",
       "      <td>88.0</td>\n",
       "      <td>28.0</td>\n",
       "      <td>6.93</td>\n",
       "    </tr>\n",
       "    <tr>\n",
       "      <th>7</th>\n",
       "      <td>964432</td>\n",
       "      <td>port alfred</td>\n",
       "      <td>ZA</td>\n",
       "      <td>-33.59</td>\n",
       "      <td>26.89</td>\n",
       "      <td>South</td>\n",
       "      <td>61.68</td>\n",
       "      <td>39.0</td>\n",
       "      <td>0.0</td>\n",
       "      <td>11.45</td>\n",
       "    </tr>\n",
       "    <tr>\n",
       "      <th>16</th>\n",
       "      <td>3897774</td>\n",
       "      <td>buin</td>\n",
       "      <td>CL</td>\n",
       "      <td>-33.73</td>\n",
       "      <td>-70.75</td>\n",
       "      <td>South</td>\n",
       "      <td>50.88</td>\n",
       "      <td>66.0</td>\n",
       "      <td>31.0</td>\n",
       "      <td>2.24</td>\n",
       "    </tr>\n",
       "    <tr>\n",
       "      <th>17</th>\n",
       "      <td>6201424</td>\n",
       "      <td>mataura</td>\n",
       "      <td>NZ</td>\n",
       "      <td>-46.19</td>\n",
       "      <td>168.86</td>\n",
       "      <td>South</td>\n",
       "      <td>57.76</td>\n",
       "      <td>44.0</td>\n",
       "      <td>50.0</td>\n",
       "      <td>2.82</td>\n",
       "    </tr>\n",
       "  </tbody>\n",
       "</table>\n",
       "</div>"
      ],
      "text/plain": [
       "    City ID     City Name Country  Latitude  Longitude Hemisphere  \\\n",
       "0   3366880      hermanus      ZA    -34.42      19.23      South   \n",
       "5   3874787  punta arenas      CL    -53.15     -70.92      South   \n",
       "7    964432   port alfred      ZA    -33.59      26.89      South   \n",
       "16  3897774          buin      CL    -33.73     -70.75      South   \n",
       "17  6201424       mataura      NZ    -46.19     168.86      South   \n",
       "\n",
       "    Temperature (F)  Humidity (%)  Cloudiness (%)  Wind Speed (mph)  \n",
       "0             55.00          95.0            30.0              5.99  \n",
       "5             35.29          88.0            28.0              6.93  \n",
       "7             61.68          39.0             0.0             11.45  \n",
       "16            50.88          66.0            31.0              2.24  \n",
       "17            57.76          44.0            50.0              2.82  "
      ]
     },
     "execution_count": 19,
     "metadata": {},
     "output_type": "execute_result"
    }
   ],
   "source": [
    "#Create a dataframe for SOUTHERN hemispheres\n",
    "south_df = clean_weather_df[clean_weather_df[\"Hemisphere\"] == \"South\"]\n",
    "south_df.head()"
   ]
  },
  {
   "cell_type": "markdown",
   "metadata": {},
   "source": [
    "---"
   ]
  },
  {
   "cell_type": "markdown",
   "metadata": {},
   "source": [
    "####  Northern Hemisphere - Max Temp vs. Latitude Linear Regression"
   ]
  },
  {
   "cell_type": "code",
   "execution_count": 20,
   "metadata": {},
   "outputs": [
    {
     "name": "stdout",
     "output_type": "stream",
     "text": [
      "--------------------------\n",
      "The correlation between both factors (Temperature (F) and Latitude) is -0.77\n",
      "--------------------------\n"
     ]
    },
    {
     "data": {
      "image/png": "[encoded data removed]",
      "text/plain": [
       "<Figure size 432x288 with 1 Axes>"
      ]
     },
     "metadata": {},
     "output_type": "display_data"
    }
   ],
   "source": [
    "temp_n = north_df['Temperature (F)']\n",
    "lat_n = north_df['Latitude']\n",
    "\n",
    "correlation = st.pearsonr(lat_n, temp_n)\n",
    "\n",
    "print('--------------------------')\n",
    "print(f\"The correlation between both factors (Temperature (F) and Latitude) is {round(correlation[0],2)}\")\n",
    "print('--------------------------')\n",
    "\n",
    "(slope, intercept, rvalue, pvalue, stderr) = st.linregress(lat_n, temp_n)\n",
    "regress_values = lat_n * slope + intercept\n",
    "line_eq = \"y = \" + str(round(slope,2)) + \"x + \" + str(round(intercept,2))\n",
    "\n",
    "north_df.plot(kind='scatter', x='Latitude', y='Temperature (F)', \n",
    "             title='Temperature (F) vs. Latitude Chart \\nNorthern Hemisphere')    \n",
    "\n",
    "plt.plot(lat_n, regress_values, \"r-\", label=line_eq)\n",
    "plt.legend()\n",
    "plt.savefig('output_data/lat_vs_temp_regresion_northern.png')\n",
    "plt.show()"
   ]
  },
  {
   "cell_type": "markdown",
   "metadata": {},
   "source": [
    "####  Southern Hemisphere - Max Temp vs. Latitude Linear Regression"
   ]
  },
  {
   "cell_type": "code",
   "execution_count": 21,
   "metadata": {},
   "outputs": [
    {
     "name": "stdout",
     "output_type": "stream",
     "text": [
      "--------------------------\n",
      "The correlation between both factors (Temperature (F) and Latitude) is 0.62\n",
      "--------------------------\n"
     ]
    },
    {
     "data": {
      "image/png": "[encoded data removed]",
      "text/plain": [
       "<Figure size 432x288 with 1 Axes>"
      ]
     },
     "metadata": {},
     "output_type": "display_data"
    }
   ],
   "source": [
    "temp_s = south_df['Temperature (F)']\n",
    "lat_s = south_df['Latitude']\n",
    "\n",
    "correlation = st.pearsonr(lat_s, temp_s)\n",
    "\n",
    "print('--------------------------')\n",
    "print(f\"The correlation between both factors (Temperature (F) and Latitude) is {round(correlation[0],2)}\")\n",
    "print('--------------------------')\n",
    "\n",
    "(slope, intercept, rvalue, pvalue, stderr) = st.linregress(lat_s, temp_s)\n",
    "regress_values = lat_s * slope + intercept\n",
    "line_eq = \"y = \" + str(round(slope,2)) + \"x + \" + str(round(intercept,2))\n",
    "\n",
    "south_df.plot(kind='scatter', x='Latitude', y='Temperature (F)', \n",
    "             title='Temperature (F) vs. Latitude Chart \\nSouthern Hemisphere')    \n",
    "\n",
    "plt.plot(lat_s, regress_values, \"r-\", label=line_eq)\n",
    "plt.legend()\n",
    "plt.savefig('output_data/lat_vs_temp_regresion_southern.png')\n",
    "plt.show()"
   ]
  },
  {
   "cell_type": "markdown",
   "metadata": {},
   "source": [
    "On the northern hemisphere, there is a correlation around 0.75 (1 = best) between the temperature and latitute.\n",
    "On the southern, there is a correlation, less than northern, of 0.63 (1 = best) between temperature and latitude."
   ]
  },
  {
   "cell_type": "markdown",
   "metadata": {},
   "source": [
    "---"
   ]
  },
  {
   "cell_type": "markdown",
   "metadata": {},
   "source": [
    "####  Northern Hemisphere - Humidity (%) vs. Latitude Linear Regression"
   ]
  },
  {
   "cell_type": "code",
   "execution_count": 22,
   "metadata": {},
   "outputs": [
    {
     "name": "stdout",
     "output_type": "stream",
     "text": [
      "--------------------------\n",
      "The correlation between both factors (Humidity (%) and Latitude) is -0.05\n",
      "--------------------------\n"
     ]
    },
    {
     "data": {
      "image/png": "[encoded data removed]",
      "text/plain": [
       "<Figure size 432x288 with 1 Axes>"
      ]
     },
     "metadata": {},
     "output_type": "display_data"
    }
   ],
   "source": [
    "hum_n = north_df['Humidity (%)']\n",
    "lat_n = north_df['Latitude']\n",
    "\n",
    "correlation = st.pearsonr(lat_n, hum_n)\n",
    "\n",
    "print('--------------------------')\n",
    "print(f\"The correlation between both factors (Humidity (%) and Latitude) is {round(correlation[0],2)}\")\n",
    "print('--------------------------')\n",
    "\n",
    "(slope, intercept, rvalue, pvalue, stderr) = st.linregress(lat_n, hum_n)\n",
    "regress_values = lat_n * slope + intercept\n",
    "line_eq = \"y = \" + str(round(slope,2)) + \"x + \" + str(round(intercept,2))\n",
    "\n",
    "north_df.plot(kind='scatter', x='Latitude', y='Humidity (%)', \n",
    "             title='Humidity (%) vs. Latitude Chart \\nNorthern Hemisphere')    \n",
    "\n",
    "plt.plot(lat_n, regress_values, \"r-\", label=line_eq)\n",
    "plt.legend()\n",
    "plt.savefig('output_data/lat_vs_humi_regresion_northern.png')\n",
    "plt.show()"
   ]
  },
  {
   "cell_type": "markdown",
   "metadata": {},
   "source": [
    "####  Southern Hemisphere - Humidity (%) vs. Latitude Linear Regression"
   ]
  },
  {
   "cell_type": "code",
   "execution_count": 23,
   "metadata": {},
   "outputs": [
    {
     "name": "stdout",
     "output_type": "stream",
     "text": [
      "--------------------------\n",
      "The correlation between both factors (Humidity (%) and Latitude) is 0.21\n",
      "--------------------------\n"
     ]
    },
    {
     "data": {
      "image/png": "[encoded data removed]",
      "text/plain": [
       "<Figure size 432x288 with 1 Axes>"
      ]
     },
     "metadata": {},
     "output_type": "display_data"
    }
   ],
   "source": [
    "hum_s = south_df['Humidity (%)']\n",
    "lat_s = south_df['Latitude']\n",
    "\n",
    "correlation = st.pearsonr(lat_s, hum_s)\n",
    "\n",
    "print('--------------------------')\n",
    "print(f\"The correlation between both factors (Humidity (%) and Latitude) is {round(correlation[0],2)}\")\n",
    "print('--------------------------')\n",
    "\n",
    "(slope, intercept, rvalue, pvalue, stderr) = st.linregress(lat_s, hum_s)\n",
    "regress_values = lat_s * slope + intercept\n",
    "line_eq = \"y = \" + str(round(slope,2)) + \"x + \" + str(round(intercept,2))\n",
    "\n",
    "south_df.plot(kind='scatter', x='Latitude', y='Humidity (%)', \n",
    "             title='Humidity (%) vs. Latitude Chart \\nSouthern Hemisphere')    \n",
    "\n",
    "plt.plot(lat_s, regress_values, \"r-\", label=line_eq)\n",
    "plt.legend()\n",
    "plt.savefig('output_data/lat_vs_humi_regresion_southern.png')\n",
    "plt.show()"
   ]
  },
  {
   "cell_type": "markdown",
   "metadata": {},
   "source": [
    "There is NO correlation between Humidity (%) and latitude on both hemispheres."
   ]
  },
  {
   "cell_type": "markdown",
   "metadata": {},
   "source": [
    "---"
   ]
  },
  {
   "cell_type": "markdown",
   "metadata": {},
   "source": [
    "####  Northern Hemisphere - Cloudiness (%) vs. Latitude Linear Regression"
   ]
  },
  {
   "cell_type": "code",
   "execution_count": 24,
   "metadata": {},
   "outputs": [
    {
     "name": "stdout",
     "output_type": "stream",
     "text": [
      "--------------------------\n",
      "The correlation between both factors (Cloudiness (%) and Latitude) is 0.07\n",
      "--------------------------\n"
     ]
    },
    {
     "data": {
      "image/png": "[encoded data removed]",
      "text/plain": [
       "<Figure size 432x288 with 1 Axes>"
      ]
     },
     "metadata": {},
     "output_type": "display_data"
    }
   ],
   "source": [
    "cloud_n = north_df['Cloudiness (%)']\n",
    "lat_n = north_df['Latitude']\n",
    "\n",
    "correlation = st.pearsonr(lat_n, cloud_n)\n",
    "\n",
    "print('--------------------------')\n",
    "print(f\"The correlation between both factors (Cloudiness (%) and Latitude) is {round(correlation[0],2)}\")\n",
    "print('--------------------------')\n",
    "\n",
    "(slope, intercept, rvalue, pvalue, stderr) = st.linregress(lat_n, cloud_n)\n",
    "regress_values = lat_n * slope + intercept\n",
    "line_eq = \"y = \" + str(round(slope,2)) + \"x + \" + str(round(intercept,2))\n",
    "\n",
    "north_df.plot(kind='scatter', x='Latitude', y='Cloudiness (%)', \n",
    "             title='Cloudiness (%) vs. Latitude Chart \\nNorthern Hemisphere')    \n",
    "\n",
    "plt.plot(lat_n, regress_values, \"r-\", label=line_eq)\n",
    "plt.legend()\n",
    "plt.savefig('output_data/lat_vs_cloud_regresion_northern.png')\n",
    "plt.show()"
   ]
  },
  {
   "cell_type": "markdown",
   "metadata": {},
   "source": [
    "####  Southern Hemisphere - Cloudiness (%) vs. Latitude Linear Regression"
   ]
  },
  {
   "cell_type": "code",
   "execution_count": 25,
   "metadata": {},
   "outputs": [
    {
     "name": "stdout",
     "output_type": "stream",
     "text": [
      "--------------------------\n",
      "The correlation between both factors (Cloudiness (%) and Latitude) is 0.0\n",
      "--------------------------\n"
     ]
    },
    {
     "data": {
      "image/png": "[encoded data removed]",
      "text/plain": [
       "<Figure size 432x288 with 1 Axes>"
      ]
     },
     "metadata": {},
     "output_type": "display_data"
    }
   ],
   "source": [
    "cloud_s = south_df['Cloudiness (%)']\n",
    "lat_s = south_df['Latitude']\n",
    "\n",
    "correlation = st.pearsonr(lat_s, cloud_s)\n",
    "\n",
    "print('--------------------------')\n",
    "print(f\"The correlation between both factors (Cloudiness (%) and Latitude) is {round(correlation[0],2)}\")\n",
    "print('--------------------------')\n",
    "\n",
    "(slope, intercept, rvalue, pvalue, stderr) = st.linregress(lat_s, cloud_s)\n",
    "regress_values = lat_s * slope + intercept\n",
    "line_eq = \"y = \" + str(round(slope,2)) + \"x + \" + str(round(intercept,2))\n",
    "\n",
    "south_df.plot(kind='scatter', x='Latitude', y='Cloudiness (%)', \n",
    "             title='Cloudiness (%) vs. Latitude Chart \\nSouthern Hemisphere')    \n",
    "\n",
    "plt.plot(lat_s, regress_values, \"r-\", label=line_eq)\n",
    "plt.legend()\n",
    "plt.savefig('output_data/lat_vs_cloud_regresion_southern.png')\n",
    "plt.show()"
   ]
  },
  {
   "cell_type": "markdown",
   "metadata": {},
   "source": [
    "There is NO correlation between Cloudiness (%) and latitude on both hemispheres."
   ]
  },
  {
   "cell_type": "markdown",
   "metadata": {},
   "source": [
    "---"
   ]
  },
  {
   "cell_type": "markdown",
   "metadata": {},
   "source": [
    "####  Northern Hemisphere - Wind Speed (mph) vs. Latitude Linear Regression"
   ]
  },
  {
   "cell_type": "code",
   "execution_count": 26,
   "metadata": {},
   "outputs": [
    {
     "name": "stdout",
     "output_type": "stream",
     "text": [
      "--------------------------\n",
      "The correlation between both factors (Wind Speed (mph) and Latitude) is 0.18\n",
      "--------------------------\n"
     ]
    },
    {
     "data": {
      "image/png": "[encoded data removed]",
      "text/plain": [
       "<Figure size 432x288 with 1 Axes>"
      ]
     },
     "metadata": {},
     "output_type": "display_data"
    }
   ],
   "source": [
    "wind_n = north_df['Wind Speed (mph)']\n",
    "lat_n = north_df['Latitude']\n",
    "\n",
    "correlation = st.pearsonr(lat_n, wind_n)\n",
    "\n",
    "print('--------------------------')\n",
    "print(f\"The correlation between both factors (Wind Speed (mph) and Latitude) is {round(correlation[0],2)}\")\n",
    "print('--------------------------')\n",
    "\n",
    "(slope, intercept, rvalue, pvalue, stderr) = st.linregress(lat_n, wind_n)\n",
    "regress_values = lat_n * slope + intercept\n",
    "line_eq = \"y = \" + str(round(slope,2)) + \"x + \" + str(round(intercept,2))\n",
    "\n",
    "north_df.plot(kind='scatter', x='Latitude', y='Wind Speed (mph)', \n",
    "             title='Wind Speed (mph) vs. Latitude Chart \\nNorthern Hemisphere')    \n",
    "\n",
    "plt.plot(lat_n, regress_values, \"r-\", label=line_eq)\n",
    "plt.legend()\n",
    "plt.savefig('output_data/lat_vs_wind_regresion_northern.png')\n",
    "plt.show()"
   ]
  },
  {
   "cell_type": "markdown",
   "metadata": {},
   "source": [
    "####  Southern Hemisphere - Wind Speed (mph) vs. Latitude Linear Regression"
   ]
  },
  {
   "cell_type": "code",
   "execution_count": 27,
   "metadata": {},
   "outputs": [
    {
     "name": "stdout",
     "output_type": "stream",
     "text": [
      "--------------------------\n",
      "The correlation between both factors (Wind Speed (mph) and Latitude) is -0.2\n",
      "--------------------------\n"
     ]
    },
    {
     "data": {
      "image/png": "[encoded data removed]",
      "text/plain": [
       "<Figure size 432x288 with 1 Axes>"
      ]
     },
     "metadata": {},
     "output_type": "display_data"
    }
   ],
   "source": [
    "wind_s = south_df['Wind Speed (mph)']\n",
    "lat_s = south_df['Latitude']\n",
    "\n",
    "correlation = st.pearsonr(lat_s, wind_s)\n",
    "\n",
    "print('--------------------------')\n",
    "print(f\"The correlation between both factors (Wind Speed (mph) and Latitude) is {round(correlation[0],2)}\")\n",
    "print('--------------------------')\n",
    "\n",
    "(slope, intercept, rvalue, pvalue, stderr) = st.linregress(lat_s, wind_s)\n",
    "regress_values = lat_s * slope + intercept\n",
    "line_eq = \"y = \" + str(round(slope,2)) + \"x + \" + str(round(intercept,2))\n",
    "\n",
    "south_df.plot(kind='scatter', x='Latitude', y='Wind Speed (mph)', \n",
    "             title='Wind Speed (mph) vs. Latitude Chart \\nSouthern Hemisphere')    \n",
    "\n",
    "plt.plot(lat_s, regress_values, \"r-\", label=line_eq)\n",
    "plt.legend()\n",
    "plt.savefig('output_data/lat_vs_wind_regresion_southern.png')\n",
    "plt.show()"
   ]
  },
  {
   "cell_type": "markdown",
   "metadata": {},
   "source": [
    "There is NO correlation between Cloudiness (%) and latitude on both hemispheres."
   ]
  },
  {
   "cell_type": "raw",
   "metadata": {},
   "source": [
    "  _______ _            ______           _ \n",
    " |__   __| |          |  ____|         | |\n",
    "    | |  | |__   ___  | |__   _ __   __| |\n",
    "    | |  | '_ \\ / _ \\ |  __| | '_ \\ / _` |\n",
    "    | |  | | | |  __/ | |____| | | | (_| |\n",
    "    |_|  |_| |_|\\___| |______|_| |_|\\__,_|"
   ]
  }
 ],
 "metadata": {
  "anaconda-cloud": {},
  "kernel_info": {
   "name": "python3"
  },
  "kernelspec": {
   "display_name": "Python 3",
   "language": "python",
   "name": "python3"
  },
  "language_info": {
   "codemirror_mode": {
    "name": "ipython",
    "version": 3
   },
   "file_extension": ".py",
   "mimetype": "text/x-python",
   "name": "python",
   "nbconvert_exporter": "python",
   "pygments_lexer": "ipython3",
   "version": "3.7.6"
  },
  "latex_envs": {
   "LaTeX_envs_menu_present": true,
   "autoclose": false,
   "autocomplete": true,
   "bibliofile": "biblio.bib",
   "cite_by": "apalike",
   "current_citInitial": 1,
   "eqLabelWithNumbers": true,
   "eqNumInitial": 1,
   "hotkeys": {
    "equation": "Ctrl-E",
    "itemize": "Ctrl-I"
   },
   "labels_anchors": false,
   "latex_user_defs": false,
   "report_style_numbering": false,
   "user_envs_cfg": false
  },
  "nteract": {
   "version": "0.12.3"
  }
 },
 "nbformat": 4,
 "nbformat_minor": 4
}
